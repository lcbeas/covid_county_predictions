{
 "cells": [
  {
   "cell_type": "code",
   "execution_count": 1,
   "metadata": {},
   "outputs": [],
   "source": [
    "import numpy as np\n",
    "import pandas as pd\n",
    "import matplotlib.pyplot as plt\n",
    "from sklearn.linear_model import LogisticRegression\n",
    "from datetime import datetime,timedelta\n",
    "import scipy.optimize as opt\n",
    "\n",
    "jhu_url = 'https://raw.githubusercontent.com/CSSEGISandData/COVID-19/master/csse_covid_19_data/csse_covid_19_time_series/time_series_covid19_confirmed_US.csv'\n",
    "jhu = pd.read_csv(jhu_url)\n",
    "numeric_cols = [col for col in jhu if jhu[col].dtype.kind != 'O']\n",
    "cols = numeric_cols[5:]\n",
    "jhu[cols] += 1"
   ]
  },
  {
   "cell_type": "code",
   "execution_count": 2,
   "metadata": {},
   "outputs": [],
   "source": [
    "####### ONLY THINGS TO CHANGE #####################\n",
    "### will not work if day has not happened yet or already happened when prediction dataset was created \n",
    "day = '5/6/20' \n",
    "prediction_file = 'v2_pred_10days_from05032020.csv'\n",
    "###################################################\n",
    "\n",
    "\n",
    "def analyze_day(day = datetime.strftime(datetime.now() - timedelta(1), '%Y-%m-%d'), verbose = True):\n",
    "    yest_pred = pd.read_csv(prediction_file)\n",
    "    true_idx = pd.to_datetime(jhu.columns.values, errors= 'coerce') == pd.to_datetime(day)\n",
    "    pred_idx = pd.to_datetime(yest_pred.columns.values, errors= 'coerce') == pd.to_datetime(day)\n",
    "    true_vals = np.array(jhu.iloc[:,true_idx])\n",
    "    pred_ = np.array(yest_pred.iloc[:,pred_idx])\n",
    "    \n",
    "    x = np.square(np.log(true_vals) - np.log(pred_))\n",
    "    y = true_vals - pred_\n",
    "    \n",
    "    # log loss basically just means we measure predictions by % off\n",
    "    # prediction 10 vs real value 5 is equally as bad as prediction 100,000 vs real value 50,000\n",
    "\n",
    "    # Example in how to interpret first one (more than 2): \n",
    "    # the percentage of cases that predicted really bad (loss over 2) was 14%\n",
    "    # but the average amount of cases from the group that was poorly predicted was 6.7 \n",
    "    # (i.e. counties really small case counts predict poorly)\n",
    "\n",
    "    if verbose: \n",
    "        print('PREDICTIONS FOR: ', day, '\\n\\n\\n')\n",
    "\n",
    "        print('TOTAL average loss: ',\n",
    "              np.average(np.square(np.log(true_vals) - np.log(pred_))), '\\n')\n",
    "        \n",
    "        print('TOTAL sum loss for cases over 100:\\n # Cases: ', len(true_vals[true_vals >100]), '\\n',\n",
    "              np.sum(np.square(np.log(true_vals[true_vals >100]) - np.log(pred_[true_vals >100]))), '\\n')\n",
    "        \n",
    "        print('TOTAL average loss for cases over 100:\\n # Cases: ', len(true_vals[true_vals >100]), '\\n',\n",
    "              np.average(np.square(np.log(true_vals[true_vals >100]) - np.log(pred_[true_vals >100]))), '\\n')\n",
    "        \n",
    "        #print('TOTAL average loss for pred over 100:\\n # Cases: ', len(true_vals[pred_ >100]), '\\n',\n",
    "         #     np.average(np.square(np.log(true_vals[pred_ >100]) - np.log(pred_[pred_ >100]))), '\\n')\n",
    "        \n",
    "        print('TOTAL average loss for cases over 50:\\n # Cases: ', len(true_vals[true_vals >50]), '\\n',\n",
    "              np.average(np.square(np.log(true_vals[true_vals >50]) - np.log(pred_[true_vals >50]))), '\\n')\n",
    "        \n",
    "        #print('TOTAL average loss for pred over 50:\\n # Cases: ', len(true_vals[pred_ >50]), '\\n',\n",
    "          #    np.average(np.square(np.log(true_vals[pred_ >50]) - np.log(pred_[pred_ >50]))), '\\n')\n",
    "            \n",
    "        print('TOTAL average loss for cases over 30:\\n # Cases: ', len(true_vals[true_vals >30]), '\\n',\n",
    "              np.average(np.square(np.log(true_vals[true_vals >30]) - np.log(pred_[true_vals >30]))), '\\n')\n",
    "        \n",
    "        print('TOTAL average loss for cases UNDER 30:\\n # Cases: ', len(true_vals[true_vals <30]), '\\n',\n",
    "              np.average(np.square(np.log(true_vals[true_vals <30]) - np.log(pred_[true_vals <30]))), '\\n',\n",
    "             'average # cases: ', np.average(true_vals[true_vals <30]), 'average pred: ', np.average(pred_[true_vals <30]), '\\n')\n",
    "\n",
    "        print('Cases missing by more than 2 (~ 300% off - ex. pred = 40, true = 10): ', '\\nPercent: ', round(len(x[x>2])/len(x),2), \n",
    "              '\\naverage num cases: ',np.average(true_vals[x>2]), '\\n') \n",
    "        print('Cases missing by more than 1 (~ 175% off): ', '\\nPercent: ', round(len(x[x>1])/len(x),2), \n",
    "              '\\naverage num cases: ',np.average(true_vals[x>1]), '\\n')\n",
    "        print('Cases missing by less than 1 (~ 175% off): ', '\\nPercent: ', round(len(x[x<1])/len(x),2), \n",
    "              '\\naverage num cases: ',np.average(true_vals[x<1]), '\\n')\n",
    "        print('Cases missing by less than 0.5 (~ 100% off): ', '\\nPercent: ', round(len(x[x<0.5])/len(x),2), \n",
    "              '\\naverage num cases: ',np.average(true_vals[x<0.5]), '\\n')\n",
    "        print('Cases missing by less than 0.1 (~ 35% off): ', '\\nPercent: ', round(len(x[x<0.1])/len(x),2), \n",
    "              '\\naverage num cases: ',np.average(true_vals[x<0.1]), '\\n')\n",
    "        print('Cases missing by less than 0.01 (~10% off): ', '\\nPercent: ', round(len(x[x<0.01])/len(x),2), \n",
    "              '\\naverage num cases: ',np.average(true_vals[x<0.01]), '\\n')\n",
    "        print('Cases missing by less than 0.001 (~4% off): ', '\\nPercent: ', round(len(x[x<0.001])/len(x),2), \n",
    "              '\\naverage num cases: ',np.average(true_vals[x<0.001]), '\\n')\n",
    "        print('average loss if removing losses above 1: ',\n",
    "              np.average(np.square(np.log(true_vals[x<1]) - np.log(pred_[x<1]))), '\\n')\n",
    "        print('average loss if removing losses above 0.5: ',\n",
    "              np.average(np.square(np.log(true_vals[x<0.5]) - np.log(pred_[x<0.5]))), '\\n')\n",
    "        \n",
    "        print('total predictions: ', len(y))\n",
    "        print('\\n# of Overpredictions: ', len( y[y<0]), '\\navg cases in overpredictions', np.average(true_vals[y<0])\n",
    "             , '\\n avg overprediction by', np.average(y[y<0]))\n",
    "        print('\\n# of Underpredictions: ',len(y[y>0]), '\\navg cases in underpredictions', np.average(true_vals[y>0])\n",
    "             , '\\n avg underprediction by', np.average(y[y>0]))\n",
    "\n",
    "\n",
    "        print('\\nTotal avg cases: ', np.average(true_vals), '\\nTotal miss average (by %): ', np.average(np.absolute(y)))\n",
    "        plt.hist(x, bins = 30, range = (0, 2))\n",
    "        plt.title('distribution of log loss on each prediction')\n",
    "        plt.ylabel('number of counties')\n",
    "        plt.show()\n",
    "        plt.hist(y, bins = 30, range = (-300,300))\n",
    "        plt.title('distribution of prediction misses')\n",
    "        plt.show()\n",
    "        z = pred_/true_vals\n",
    "        plt.hist(z, bins = 30, range = (0,5))\n",
    "        plt.title('distribution of percent prediction misses')\n",
    "        plt.show()\n",
    "    \n",
    "    return x, y "
   ]
  },
  {
   "cell_type": "code",
   "execution_count": 13,
   "metadata": {},
   "outputs": [
    {
     "name": "stdout",
     "output_type": "stream",
     "text": [
      "PREDICTIONS FOR:  5/12/20 \n",
      "\n",
      "\n",
      "\n",
      "TOTAL average loss:  1.5560357760014485 \n",
      "\n",
      "TOTAL sum loss for cases over 100:\n",
      " # Cases:  870 \n",
      " 270.8624403690526 \n",
      "\n",
      "TOTAL average loss for cases over 100:\n",
      " # Cases:  870 \n",
      " 0.3113361383552329 \n",
      "\n",
      "TOTAL average loss for cases over 50:\n",
      " # Cases:  1213 \n",
      " 0.3240334025654601 \n",
      "\n",
      "TOTAL average loss for cases over 30:\n",
      " # Cases:  1499 \n",
      " 0.35468139287008205 \n",
      "\n",
      "TOTAL average loss for cases UNDER 30:\n",
      " # Cases:  1744 \n",
      " 2.601365961808731 \n",
      " average # cases:  8.870412844036696 average pred:  21.227754257604065 \n",
      "\n",
      "Cases missing by more than 2 (~ 300% off - ex. pred = 40, true = 10):  \n",
      "Percent:  0.2 \n",
      "average num cases:  15.324850299401197 \n",
      "\n",
      "Cases missing by more than 1 (~ 175% off):  \n",
      "Percent:  0.28 \n",
      "average num cases:  20.64138678223185 \n",
      "\n",
      "Cases missing by less than 1 (~ 175% off):  \n",
      "Percent:  0.72 \n",
      "average num cases:  579.0346449957228 \n",
      "\n",
      "Cases missing by less than 0.5 (~ 100% off):  \n",
      "Percent:  0.62 \n",
      "average num cases:  667.599700897308 \n",
      "\n",
      "Cases missing by less than 0.1 (~ 35% off):  \n",
      "Percent:  0.38 \n",
      "average num cases:  965.6012861736334 \n",
      "\n",
      "Cases missing by less than 0.01 (~10% off):  \n",
      "Percent:  0.12 \n",
      "average num cases:  1206.9037974683545 \n",
      "\n",
      "Cases missing by less than 0.001 (~4% off):  \n",
      "Percent:  0.04 \n",
      "average num cases:  217.94444444444446 \n",
      "\n",
      "average loss if removing losses above 1:  0.2030399265749309 \n",
      "\n",
      "average loss if removing losses above 0.5:  0.11431104315713561 \n",
      "\n",
      "total predictions:  3261\n",
      "\n",
      "# of Overpredictions:  1846 \n",
      "avg cases in overpredictions 50.566630552546044 \n",
      " avg overprediction by -31.957653944298723\n",
      "\n",
      "# of Underpredictions:  1415 \n",
      "avg cases in underpredictions 904.2325088339222 \n",
      " avg underprediction by 145.10843856899643\n",
      "\n",
      "Total avg cases:  420.98589389757745 \n",
      "Total miss average (by %):  81.0555871684469\n"
     ]
    },
    {
     "data": {
      "image/png": "[encoded data removed]",
      "text/plain": [
       "<Figure size 432x288 with 1 Axes>"
      ]
     },
     "metadata": {
      "needs_background": "light"
     },
     "output_type": "display_data"
    },
    {
     "data": {
      "image/png": "[encoded data removed]",
      "text/plain": [
       "<Figure size 432x288 with 1 Axes>"
      ]
     },
     "metadata": {
      "needs_background": "light"
     },
     "output_type": "display_data"
    },
    {
     "data": {
      "image/png": "[encoded data removed]",
      "text/plain": [
       "<Figure size 432x288 with 1 Axes>"
      ]
     },
     "metadata": {
      "needs_background": "light"
     },
     "output_type": "display_data"
    }
   ],
   "source": [
    "# can run this for any day that was predicted and has already happened\n",
    "day = '5/12/20' \n",
    "sq_log_loss, miss = analyze_day(day, verbose = True)"
   ]
  }
 ],
 "metadata": {
  "kernelspec": {
   "display_name": "Python 3",
   "language": "python",
   "name": "python3"
  },
  "language_info": {
   "codemirror_mode": {
    "name": "ipython",
    "version": 3
   },
   "file_extension": ".py",
   "mimetype": "text/x-python",
   "name": "python",
   "nbconvert_exporter": "python",
   "pygments_lexer": "ipython3",
   "version": "3.7.6"
  }
 },
 "nbformat": 4,
 "nbformat_minor": 4
}
